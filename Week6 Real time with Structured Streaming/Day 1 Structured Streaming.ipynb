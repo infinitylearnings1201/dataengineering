{
 "cells": [
  {
   "cell_type": "markdown",
   "metadata": {
    "application/vnd.databricks.v1+cell": {
     "cellMetadata": {},
     "inputWidgets": {},
     "nuid": "15645f32-0acf-416e-80be-6428f83b5746",
     "showTitle": false,
     "tableResultSettingsMap": {},
     "title": ""
    }
   },
   "source": [
    "\n",
    "1. The Batch Era: Reliable but Reactive\n",
    "2. The Need for Speed: Where Batch Breaks Down\n",
    "3. Enter Streaming: Data that Flows"
   ]
  },
  {
   "cell_type": "markdown",
   "metadata": {
    "application/vnd.databricks.v1+cell": {
     "cellMetadata": {},
     "inputWidgets": {},
     "nuid": "4f5caaa4-5e5b-4491-89d1-9a3be3a6bda1",
     "showTitle": false,
     "tableResultSettingsMap": {},
     "title": ""
    }
   },
   "source": [
    "# Streaming means processing data as it arrives, not hours later.\n",
    "\n",
    "A streaming data pipeline is designed to:\n",
    "\n",
    "- Continuously ingest new data\n",
    "- Transform and enrich it on-the-fl\n",
    "- Trigger real-time actions or decisions\n",
    "- Store and visualize the results with minimal delay"
   ]
  },
  {
   "cell_type": "markdown",
   "metadata": {
    "application/vnd.databricks.v1+cell": {
     "cellMetadata": {},
     "inputWidgets": {},
     "nuid": "09621166-4f95-48e7-b91b-51d538478c08",
     "showTitle": false,
     "tableResultSettingsMap": {},
     "title": ""
    }
   },
   "source": [
    "Anatomy of a Streaming Data Pipeline\n",
    "\n",
    "- Ingestion Layer\n",
    "- Stream Processing Engine\n",
    "- Storage / Sink Layer\n",
    "- Observability & Monitoring"
   ]
  },
  {
   "cell_type": "markdown",
   "metadata": {
    "application/vnd.databricks.v1+cell": {
     "cellMetadata": {},
     "inputWidgets": {},
     "nuid": "39d55cfa-3e0c-4af0-9807-e1d8db2be015",
     "showTitle": false,
     "tableResultSettingsMap": {},
     "title": ""
    }
   },
   "source": [
    "Why Spark Structured Streaming?\n",
    "You may wonder: “Why Spark?”\n",
    "\n",
    "While there are several amazing streaming frameworks (Flink, Kafka Streams, Pulsar), Spark Structured Streaming has major advantages:\n",
    "\n",
    "- Familiar Spark APIs (if you’ve used Spark SQL/DataFrame)\n",
    "- Unified batch + streaming engine\n",
    "- Works well with Delta Lake, MLlib, and ecosystem tools\n",
    "- Great for teams already invested in Spark"
   ]
  },
  {
   "cell_type": "markdown",
   "metadata": {
    "application/vnd.databricks.v1+cell": {
     "cellMetadata": {},
     "inputWidgets": {},
     "nuid": "71c97752-2715-4c58-9c03-b72f593b6cbc",
     "showTitle": false,
     "tableResultSettingsMap": {},
     "title": ""
    }
   },
   "source": [
    "Engineering Mindset Shift: Streaming ≠ Batch"
   ]
  },
  {
   "cell_type": "code",
   "execution_count": 0,
   "metadata": {
    "application/vnd.databricks.v1+cell": {
     "cellMetadata": {},
     "inputWidgets": {},
     "nuid": "b579ef12-4650-4810-a81d-9ff10e943ca5",
     "showTitle": false,
     "tableResultSettingsMap": {},
     "title": ""
    }
   },
   "outputs": [],
   "source": [
    "https://medium.com/towards-data-engineering/100-days-of-data-engineering-on-databricks-day-55-1-why-streaming-is-the-future-of-data-1c6b9030f01f\n",
    "https://medium.com/towards-data-engineering/100-days-of-data-engineering-on-databricks-day-55-2-getting-started-with-spark-structured-9e7fa5394579\n",
    "https://medium.com/towards-data-engineering/100-days-of-data-engineering-day-55-3-hands-on-with-spark-streaming-build-your-first-real-time-052228932bd2\n",
    "https://medium.com/towards-data-engineering/100-days-of-data-engineering-on-databricks-day-55-4-mastering-transformations-and-stateful-a64c2e026701\n",
    "https://medium.com/towards-data-engineering/100-days-of-data-engineering-on-databricks-day-55-5-advanced-streaming-use-cases-with-spark-joins-9ded210c6ffc\n",
    "https://medium.com/towards-data-engineering/100-days-of-data-engineering-on-databricks-day-55-6-capstone-project-2e87108c70eb\n",
    "\n"
   ]
  }
 ],
 "metadata": {
  "application/vnd.databricks.v1+notebook": {
   "computePreferences": null,
   "dashboards": [],
   "environmentMetadata": {
    "base_environment": "",
    "environment_version": "2"
   },
   "inputWidgetPreferences": null,
   "language": "sql",
   "notebookMetadata": {
    "pythonIndentUnit": 4
   },
   "notebookName": "Day 1 Structured Streaming",
   "widgets": {}
  },
  "language_info": {
   "name": "sql"
  }
 },
 "nbformat": 4,
 "nbformat_minor": 0
}
