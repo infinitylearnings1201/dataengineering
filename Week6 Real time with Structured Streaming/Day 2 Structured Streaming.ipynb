{
 "cells": [
  {
   "cell_type": "markdown",
   "metadata": {
    "application/vnd.databricks.v1+cell": {
     "cellMetadata": {
      "byteLimit": 2048000,
      "rowLimit": 10000
     },
     "inputWidgets": {},
     "nuid": "c0208ff8-9d8f-4628-a77b-eb5c9a5742c0",
     "showTitle": false,
     "tableResultSettingsMap": {},
     "title": ""
    }
   },
   "source": [
    "Understand the architecture, core abstractions, and design philosophy behind Spark Structured Streaming — the declarative, fault-tolerant, and scalable solution for real-time data pipelines"
   ]
  },
  {
   "cell_type": "markdown",
   "metadata": {
    "application/vnd.databricks.v1+cell": {
     "cellMetadata": {
      "byteLimit": 2048000,
      "rowLimit": 10000
     },
     "inputWidgets": {},
     "nuid": "0af4ad83-c9e2-449b-88b4-e568b551b1eb",
     "showTitle": false,
     "tableResultSettingsMap": {},
     "title": ""
    }
   },
   "source": [
    "#Batch Vs Real Time"
   ]
  },
  {
   "cell_type": "markdown",
   "metadata": {
    "application/vnd.databricks.v1+cell": {
     "cellMetadata": {
      "byteLimit": 2048000,
      "rowLimit": 10000
     },
     "inputWidgets": {},
     "nuid": "983a7df5-c5bd-4fa9-aa4f-e0152c6fb97c",
     "showTitle": false,
     "tableResultSettingsMap": {},
     "title": ""
    }
   },
   "source": [
    "## Traditional Systems (Age of Batch Processing)\n",
    "    - Data at Rest. Files, Tables, Records. Query in Bulk."
   ]
  },
  {
   "cell_type": "markdown",
   "metadata": {
    "application/vnd.databricks.v1+cell": {
     "cellMetadata": {
      "byteLimit": 2048000,
      "rowLimit": 10000
     },
     "inputWidgets": {},
     "nuid": "d0008554-3cf9-4d9a-a78d-05f0ce5e0463",
     "showTitle": false,
     "tableResultSettingsMap": {},
     "title": ""
    }
   },
   "source": [
    "## Modern Systems - Constantly Changing\n",
    "\n",
    "- User clicks\n",
    "- Sensor readings from IOT Devices\n",
    "- Credit and Transactions\n",
    "- Social Media Messages"
   ]
  },
  {
   "cell_type": "markdown",
   "metadata": {
    "application/vnd.databricks.v1+cell": {
     "cellMetadata": {
      "byteLimit": 2048000,
      "rowLimit": 10000
     },
     "inputWidgets": {},
     "nuid": "613b47fc-ed76-41b1-ab53-8bf40ac76470",
     "showTitle": false,
     "tableResultSettingsMap": {},
     "title": ""
    }
   },
   "source": [
    "# Data at Rest Vs Data in motion"
   ]
  },
  {
   "cell_type": "markdown",
   "metadata": {
    "application/vnd.databricks.v1+cell": {
     "cellMetadata": {
      "byteLimit": 2048000,
      "rowLimit": 10000
     },
     "inputWidgets": {},
     "nuid": "669895b8-19d4-4a28-bd6f-90283ecbd5c2",
     "showTitle": false,
     "tableResultSettingsMap": {},
     "title": ""
    }
   },
   "source": [
    "Store and analyze vs React\n",
    "\n",
    "What is streaming?\n",
    "Streaming refers to the continuous and incremental processing of data as it arrives, rather than waiting to collect a full dataset first (as in batch processing).\n",
    "In Streaming every event is processed, transformed and acted"
   ]
  },
  {
   "cell_type": "markdown",
   "metadata": {
    "application/vnd.databricks.v1+cell": {
     "cellMetadata": {
      "byteLimit": 2048000,
      "rowLimit": 10000
     },
     "inputWidgets": {},
     "nuid": "bbef6f1f-d1c8-455f-b737-271309f36bdb",
     "showTitle": false,
     "tableResultSettingsMap": {},
     "title": ""
    }
   },
   "source": [
    "#Charasterstics of Streaming\n",
    "\n",
    "- Low Latency\n",
    "- Unbounded Data\n",
    "- Incremental Computation\n",
    "- Fault Tolerance\n",
    "- Time Awareness"
   ]
  },
  {
   "cell_type": "markdown",
   "metadata": {
    "application/vnd.databricks.v1+cell": {
     "cellMetadata": {},
     "inputWidgets": {},
     "nuid": "7b4a0211-c062-44a8-9372-dd34c45a5995",
     "showTitle": false,
     "tableResultSettingsMap": {},
     "title": ""
    }
   },
   "source": [
    "#Why Spark?\n",
    "\n",
    "1. Unified APIs\n",
    "2. Declarative Processing\n",
    "3. Fault Tolerance and Scalability"
   ]
  },
  {
   "cell_type": "code",
   "execution_count": 0,
   "metadata": {
    "application/vnd.databricks.v1+cell": {
     "cellMetadata": {},
     "inputWidgets": {},
     "nuid": "85feb7f3-64ac-4886-9a2a-97e1e98d6393",
     "showTitle": false,
     "tableResultSettingsMap": {},
     "title": ""
    }
   },
   "outputs": [],
   "source": [
    "#Architecture of Structured Streaming \n",
    "\n",
    "+------------+      +----------------+      +------------+\n",
    "|  Data      |      |  Spark Engine  |      |   Sink     |\n",
    "|  Source    | ---> |  (Transform)   | ---> | (Output)   |\n",
    "+------------+      +----------------+      +------------+"
   ]
  },
  {
   "cell_type": "markdown",
   "metadata": {
    "application/vnd.databricks.v1+cell": {
     "cellMetadata": {
      "byteLimit": 2048000,
      "rowLimit": 10000
     },
     "inputWidgets": {},
     "nuid": "04d2e9ed-6f06-4714-bd3d-9a43e78e94da",
     "showTitle": false,
     "tableResultSettingsMap": {},
     "title": ""
    }
   },
   "source": [
    "1. Source : Is the entry point where data come from\n",
    "2. Transformations: These are the operations that are applied to the data. \n",
    "3. Sink: Is the output of the stream."
   ]
  },
  {
   "cell_type": "markdown",
   "metadata": {
    "application/vnd.databricks.v1+cell": {
     "cellMetadata": {},
     "inputWidgets": {},
     "nuid": "b140e2d2-9075-4f1a-bbd8-a743d0f1a7f2",
     "showTitle": false,
     "tableResultSettingsMap": {},
     "title": ""
    }
   },
   "source": [
    "\n",
    "Behind the scene the stream is set of icrobatch"
   ]
  },
  {
   "cell_type": "markdown",
   "metadata": {
    "application/vnd.databricks.v1+cell": {
     "cellMetadata": {},
     "inputWidgets": {},
     "nuid": "9915582c-6b47-4e22-9df5-9d51f33c3906",
     "showTitle": false,
     "tableResultSettingsMap": {},
     "title": ""
    }
   },
   "source": [
    "# Concept of checkpointing  \n"
   ]
  },
  {
   "cell_type": "markdown",
   "metadata": {
    "application/vnd.databricks.v1+cell": {
     "cellMetadata": {},
     "inputWidgets": {},
     "nuid": "459b6d51-5fce-4e86-a936-7f7d67d77707",
     "showTitle": false,
     "tableResultSettingsMap": {},
     "title": ""
    }
   },
   "source": [
    "# Concepts of Watermarks"
   ]
  },
  {
   "cell_type": "markdown",
   "metadata": {
    "application/vnd.databricks.v1+cell": {
     "cellMetadata": {},
     "inputWidgets": {},
     "nuid": "4b7b0b22-ea7f-49ec-a5de-b3dd3f363a10",
     "showTitle": false,
     "tableResultSettingsMap": {},
     "title": ""
    }
   },
   "source": [
    " Step 1: Set Catalog and Schema (SQL Cell or %sql) and Create the Target Delta Table (sales_landing)"
   ]
  },
  {
   "cell_type": "code",
   "execution_count": 0,
   "metadata": {
    "application/vnd.databricks.v1+cell": {
     "cellMetadata": {
      "byteLimit": 2048000,
      "implicitDf": true,
      "rowLimit": 10000
     },
     "inputWidgets": {},
     "nuid": "139545ab-c55b-4ab7-b7ef-3b2be98ef653",
     "showTitle": false,
     "tableResultSettingsMap": {},
     "title": ""
    }
   },
   "outputs": [],
   "source": [
    "%sql\n",
    "\n",
    "USE CATALOG company;\n",
    "USE SCHEMA unit;"
   ]
  },
  {
   "cell_type": "code",
   "execution_count": 0,
   "metadata": {
    "application/vnd.databricks.v1+cell": {
     "cellMetadata": {
      "byteLimit": 2048000,
      "implicitDf": true,
      "rowLimit": 10000
     },
     "inputWidgets": {},
     "nuid": "b40080a7-8942-48b2-98f4-942c95e88ae2",
     "showTitle": false,
     "tableResultSettingsMap": {},
     "title": ""
    }
   },
   "outputs": [],
   "source": [
    "%sql\n",
    "CREATE OR REPLACE TABLE sales_landing (\n",
    "  transaction_time TIMESTAMP,\n",
    "  transaction_id INT,\n",
    "  customer_id INT,\n",
    "  product_id INT,\n",
    "  quantity INT\n",
    ") USING DELTA;\n"
   ]
  },
  {
   "cell_type": "code",
   "execution_count": 0,
   "metadata": {
    "application/vnd.databricks.v1+cell": {
     "cellMetadata": {
      "byteLimit": 2048000,
      "implicitDf": true,
      "rowLimit": 10000
     },
     "inputWidgets": {},
     "nuid": "143babbc-53dd-4509-be50-648ce4da4d8f",
     "showTitle": false,
     "tableResultSettingsMap": {},
     "title": ""
    }
   },
   "outputs": [],
   "source": [
    "%sql\n",
    "\n",
    "USE CATALOG company;\n",
    "USE SCHEMA unit;\n",
    "\n",
    "CREATE VOLUME IF NOT EXISTS sales_input_volume\n",
    "COMMENT 'Volume for streaming sales input JSON files';\n",
    "\n"
   ]
  },
  {
   "cell_type": "markdown",
   "metadata": {
    "application/vnd.databricks.v1+cell": {
     "cellMetadata": {},
     "inputWidgets": {},
     "nuid": "37b0f4ee-c4d4-481a-847e-3077578ed4b4",
     "showTitle": false,
     "tableResultSettingsMap": {},
     "title": ""
    }
   },
   "source": [
    "Read JSON or CSV File from Unity Catalog Volume (PySpark Cell)"
   ]
  },
  {
   "cell_type": "code",
   "execution_count": 0,
   "metadata": {
    "application/vnd.databricks.v1+cell": {
     "cellMetadata": {
      "byteLimit": 2048000,
      "rowLimit": 10000
     },
     "inputWidgets": {},
     "nuid": "c95c4998-d540-4e2c-83fa-7a5679f8ecf0",
     "showTitle": false,
     "tableResultSettingsMap": {},
     "title": ""
    }
   },
   "outputs": [],
   "source": [
    "from pyspark.sql.types import StructType, StructField, IntegerType, TimestampType\n",
    "\n",
    "# Define schema for the input file\n",
    "sales_schema = StructType([\n",
    "    StructField(\"transaction_time\", TimestampType()),\n",
    "    StructField(\"transaction_id\", IntegerType()),\n",
    "    StructField(\"customer_id\", IntegerType()),\n",
    "    StructField(\"product_id\", IntegerType()),\n",
    "    StructField(\"quantity\", IntegerType())\n",
    "])\n",
    "\n",
    "# Read data from the volume (assume JSON format)\n",
    "df = spark.read \\\n",
    "    .format(\"json\") \\\n",
    "    .schema(sales_schema) \\\n",
    "    .load(\"/Volumes/company/unit/sales_input_volume/\")\n",
    "\n",
    "df.show()\n"
   ]
  },
  {
   "cell_type": "markdown",
   "metadata": {
    "application/vnd.databricks.v1+cell": {
     "cellMetadata": {},
     "inputWidgets": {},
     "nuid": "8224d261-a408-44a2-90d6-e44424125341",
     "showTitle": false,
     "tableResultSettingsMap": {},
     "title": ""
    }
   },
   "source": [
    "Write DataFrame to Unity Catalog Delta Table"
   ]
  },
  {
   "cell_type": "code",
   "execution_count": 0,
   "metadata": {
    "application/vnd.databricks.v1+cell": {
     "cellMetadata": {
      "byteLimit": 2048000,
      "rowLimit": 10000
     },
     "inputWidgets": {},
     "nuid": "49fd060e-104f-446c-8894-709204f5949f",
     "showTitle": false,
     "tableResultSettingsMap": {},
     "title": ""
    }
   },
   "outputs": [],
   "source": [
    "# Write to managed Delta table in Unity Catalog\n",
    "df.write \\\n",
    "    .format(\"delta\") \\\n",
    "    .mode(\"append\") \\\n",
    "    .saveAsTable(\"company.unit.sales_landing\")\n"
   ]
  },
  {
   "cell_type": "code",
   "execution_count": 0,
   "metadata": {
    "application/vnd.databricks.v1+cell": {
     "cellMetadata": {
      "byteLimit": 2048000,
      "implicitDf": true,
      "rowLimit": 10000
     },
     "inputWidgets": {},
     "nuid": "002fd9fe-7b65-45e0-8d88-078c0c14fbc2",
     "showTitle": false,
     "tableResultSettingsMap": {},
     "title": ""
    }
   },
   "outputs": [],
   "source": [
    "%sql\n",
    "\n",
    "select * from company.unit.sales_landing"
   ]
  },
  {
   "cell_type": "code",
   "execution_count": 0,
   "metadata": {
    "application/vnd.databricks.v1+cell": {
     "cellMetadata": {
      "byteLimit": 2048000,
      "rowLimit": 10000
     },
     "inputWidgets": {},
     "nuid": "27b09102-7bc2-4171-a56d-b12358b7dd74",
     "showTitle": false,
     "tableResultSettingsMap": {},
     "title": ""
    }
   },
   "outputs": [],
   "source": [
    "# File 2\n",
    "dbutils.fs.put(\"/Volumes/company/unit/sales_input_volume/sample2.json\", \"\"\"\n",
    "{\n",
    "  \"transaction_time\": \"2024-06-06T10:02:30\",\n",
    "  \"transaction_id\": 1003,\n",
    "  \"customer_id\": 1,\n",
    "  \"product_id\": 103,\n",
    "  \"quantity\": 5\n",
    "}\n",
    "\"\"\", overwrite=True)\n",
    "\n",
    "# File 3\n",
    "dbutils.fs.put(\"/Volumes/company/unit/sales_input_volume/sample3.json\", \"\"\"\n",
    "{\n",
    "  \"transaction_time\": \"2024-06-06T10:04:00\",\n",
    "  \"transaction_id\": 1004,\n",
    "  \"customer_id\": 3,\n",
    "  \"product_id\": 104,\n",
    "  \"quantity\": 3\n",
    "}\n",
    "\"\"\", overwrite=True)\n",
    "\n",
    "# File 4\n",
    "dbutils.fs.put(\"/Volumes/company/unit/sales_input_volume/sample4.json\", \"\"\"\n",
    "{\n",
    "  \"transaction_time\": \"2024-06-06T10:08:00\",\n",
    "  \"transaction_id\": 1005,\n",
    "  \"customer_id\": 2,\n",
    "  \"product_id\": 101,\n",
    "  \"quantity\": 1\n",
    "}\n",
    "\"\"\", overwrite=True)\n"
   ]
  },
  {
   "cell_type": "code",
   "execution_count": 0,
   "metadata": {
    "application/vnd.databricks.v1+cell": {
     "cellMetadata": {
      "byteLimit": 2048000,
      "implicitDf": true,
      "rowLimit": 10000
     },
     "inputWidgets": {},
     "nuid": "ed336d84-0ae7-43e0-9940-7fc057c941b9",
     "showTitle": false,
     "tableResultSettingsMap": {},
     "title": ""
    }
   },
   "outputs": [],
   "source": [
    "%sql\n",
    "\n",
    "select * from company.unit.sales_landing"
   ]
  }
 ],
 "metadata": {
  "application/vnd.databricks.v1+notebook": {
   "computePreferences": null,
   "dashboards": [],
   "environmentMetadata": {
    "base_environment": "",
    "environment_version": "2"
   },
   "inputWidgetPreferences": null,
   "language": "python",
   "notebookMetadata": {
    "mostRecentlyExecutedCommandWithImplicitDF": {
     "commandId": 4704486759263785,
     "dataframes": [
      "_sqldf"
     ]
    },
    "pythonIndentUnit": 4
   },
   "notebookName": "Day 2 Structured Streaming",
   "widgets": {}
  },
  "language_info": {
   "name": "python"
  }
 },
 "nbformat": 4,
 "nbformat_minor": 0
}
