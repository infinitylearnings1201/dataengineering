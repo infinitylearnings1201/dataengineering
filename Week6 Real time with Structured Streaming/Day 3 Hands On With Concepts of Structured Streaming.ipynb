{
 "cells": [
  {
   "cell_type": "markdown",
   "metadata": {
    "application/vnd.databricks.v1+cell": {
     "cellMetadata": {
      "byteLimit": 2048000,
      "rowLimit": 10000
     },
     "inputWidgets": {},
     "nuid": "c4eb3a30-daa2-4a72-be51-3c80c2110275",
     "showTitle": false,
     "tableResultSettingsMap": {},
     "title": ""
    }
   },
   "source": [
    "#Scenario 1: Filter Events Based on Business Logic"
   ]
  },
  {
   "cell_type": "markdown",
   "metadata": {
    "application/vnd.databricks.v1+cell": {
     "cellMetadata": {},
     "inputWidgets": {},
     "nuid": "696ea5d8-d70b-4589-a081-27527c1f5787",
     "showTitle": false,
     "tableResultSettingsMap": {},
     "title": ""
    }
   },
   "source": [
    "#insert Data in Volume"
   ]
  },
  {
   "cell_type": "code",
   "execution_count": 0,
   "metadata": {
    "application/vnd.databricks.v1+cell": {
     "cellMetadata": {
      "byteLimit": 2048000,
      "implicitDf": true,
      "rowLimit": 10000
     },
     "inputWidgets": {},
     "nuid": "9a19413e-3b06-4eae-93c6-5402516e1f8c",
     "showTitle": false,
     "tableResultSettingsMap": {},
     "title": ""
    }
   },
   "outputs": [],
   "source": [
    "%sql\n",
    "USE CATALOG company;\n",
    "USE SCHEMA unit;\n",
    "\n",
    "CREATE VOLUME IF NOT EXISTS sales_input_today\n",
    "COMMENT 'Volume to store todays sales data: 2025-06-27';"
   ]
  },
  {
   "cell_type": "code",
   "execution_count": 0,
   "metadata": {
    "application/vnd.databricks.v1+cell": {
     "cellMetadata": {
      "byteLimit": 2048000,
      "rowLimit": 10000
     },
     "inputWidgets": {},
     "nuid": "5a069bf3-8765-4d1e-8efe-741636caea63",
     "showTitle": false,
     "tableResultSettingsMap": {},
     "title": ""
    }
   },
   "outputs": [],
   "source": [
    "from datetime import datetime\n",
    "\n",
    "today = datetime.today().strftime(\"%Y-%m-%d\")\n",
    "\n",
    "transactions = [\n",
    "    {\"transaction_id\": 2001, \"customer_id\": 1, \"product_id\": 101, \"quantity\": 2},\n",
    "    {\"transaction_id\": 2002, \"customer_id\": 2, \"product_id\": 102, \"quantity\": 1},\n",
    "    {\"transaction_id\": 2003, \"customer_id\": 3, \"product_id\": 103, \"quantity\": 5},\n",
    "    {\"transaction_id\": 2004, \"customer_id\": 1, \"product_id\": 104, \"quantity\": 3},\n",
    "    {\"transaction_id\": 2005, \"customer_id\": 2, \"product_id\": 101, \"quantity\": 4},\n",
    "    {\"transaction_id\": 2006, \"customer_id\": 3, \"product_id\": 102, \"quantity\": 2},\n",
    "    {\"transaction_id\": 2007, \"customer_id\": 1, \"product_id\": 103, \"quantity\": 1},\n",
    "    {\"transaction_id\": 2008, \"customer_id\": 2, \"product_id\": 104, \"quantity\": 2},\n",
    "    {\"transaction_id\": 2009, \"customer_id\": 3, \"product_id\": 101, \"quantity\": 6},\n",
    "    {\"transaction_id\": 2010, \"customer_id\": 1, \"product_id\": 102, \"quantity\": 3},\n",
    "]\n",
    "\n",
    "for txn in transactions:\n",
    "    content = f\"\"\"{{\n",
    "  \"transaction_time\": \"{today}T10:00:00\",\n",
    "  \"transaction_id\": {txn[\"transaction_id\"]},\n",
    "  \"customer_id\": {txn[\"customer_id\"]},\n",
    "  \"product_id\": {txn[\"product_id\"]},\n",
    "  \"quantity\": {txn[\"quantity\"]}\n",
    "}}\"\"\"\n",
    "    path = f\"/Volumes/company/unit/sales_input_today/txn_{txn['transaction_id']}.json\"\n",
    "    dbutils.fs.put(path, content, overwrite=True)\n"
   ]
  },
  {
   "cell_type": "markdown",
   "metadata": {
    "application/vnd.databricks.v1+cell": {
     "cellMetadata": {
      "byteLimit": 2048000,
      "rowLimit": 10000
     },
     "inputWidgets": {},
     "nuid": "adebf573-4f1d-498e-ad3d-bcfcd53b6c6f",
     "showTitle": false,
     "tableResultSettingsMap": {},
     "title": ""
    }
   },
   "source": [
    "#Create Static Demographics Data"
   ]
  },
  {
   "cell_type": "code",
   "execution_count": 0,
   "metadata": {
    "application/vnd.databricks.v1+cell": {
     "cellMetadata": {
      "byteLimit": 2048000,
      "rowLimit": 10000
     },
     "inputWidgets": {},
     "nuid": "956053c2-02c4-4eea-9f38-0a45a4d2ff79",
     "showTitle": false,
     "tableResultSettingsMap": {},
     "title": ""
    }
   },
   "outputs": [],
   "source": [
    "%python\n",
    "from pyspark.sql import Row\n",
    "\n",
    "# Static dimension data\n",
    "user_data = [\n",
    "    Row(user_id=1, age=25, location=\"India\"),\n",
    "    Row(user_id=2, age=40, location=\"Germany\"),\n",
    "    Row(user_id=3, age=31, location=\"India\")\n",
    "]\n",
    "\n",
    "user_df = spark.createDataFrame(user_data)"
   ]
  },
  {
   "cell_type": "markdown",
   "metadata": {
    "application/vnd.databricks.v1+cell": {
     "cellMetadata": {
      "byteLimit": 2048000,
      "rowLimit": 10000
     },
     "inputWidgets": {},
     "nuid": "48a081c0-ba01-41f1-b60c-47626a63c0c8",
     "showTitle": false,
     "tableResultSettingsMap": {},
     "title": ""
    }
   },
   "source": [
    "#Read Streaming Sales Data from Volume"
   ]
  },
  {
   "cell_type": "code",
   "execution_count": 0,
   "metadata": {
    "application/vnd.databricks.v1+cell": {
     "cellMetadata": {
      "byteLimit": 2048000,
      "rowLimit": 10000
     },
     "inputWidgets": {},
     "nuid": "9a22752f-f7c2-4855-8517-466e3231f70f",
     "showTitle": false,
     "tableResultSettingsMap": {},
     "title": ""
    }
   },
   "outputs": [],
   "source": [
    "\n",
    "from pyspark.sql.types import StructType, StructField, IntegerType, TimestampType\n",
    "from pyspark.sql.functions import col\n",
    "\n",
    "# Define schema\n",
    "sales_schema = StructType([\n",
    "    StructField(\"transaction_time\", TimestampType()),\n",
    "    StructField(\"transaction_id\", IntegerType()),\n",
    "    StructField(\"customer_id\", IntegerType()),\n",
    "    StructField(\"product_id\", IntegerType()),\n",
    "    StructField(\"quantity\", IntegerType())\n",
    "])\n",
    "\n",
    "# Read from Unity Catalog volume (JSON)\n",
    "sales_stream_df = spark.readStream \\\n",
    "    .format(\"cloudFiles\") \\\n",
    "    .option(\"cloudFiles.format\", \"json\") \\\n",
    "    .schema(sales_schema) \\\n",
    "    .load(\"/Volumes/company/unit/sales_input_today/\")\n"
   ]
  },
  {
   "cell_type": "markdown",
   "metadata": {
    "application/vnd.databricks.v1+cell": {
     "cellMetadata": {
      "byteLimit": 2048000,
      "rowLimit": 10000
     },
     "inputWidgets": {},
     "nuid": "378897f0-8ce8-46ae-9c5e-3a7d8c07766c",
     "showTitle": false,
     "tableResultSettingsMap": {},
     "title": ""
    }
   },
   "source": [
    "#Debug and Validate Data in Volume"
   ]
  },
  {
   "cell_type": "code",
   "execution_count": 0,
   "metadata": {
    "application/vnd.databricks.v1+cell": {
     "cellMetadata": {
      "byteLimit": 2048000,
      "implicitDf": true,
      "rowLimit": 10000
     },
     "inputWidgets": {},
     "nuid": "a2571ff8-b77f-4ba7-b55a-f0611e1cada3",
     "showTitle": false,
     "tableResultSettingsMap": {},
     "title": ""
    }
   },
   "outputs": [],
   "source": [
    "sales_stream_df.writeStream \\\n",
    "    .format(\"delta\") \\\n",
    "    .outputMode(\"append\") \\\n",
    "    .trigger(availableNow=True) \\\n",
    "    .option(\"checkpointLocation\", \"/Volumes/company/unit/chk/debug_sales_input_today\") \\\n",
    "    .toTable(\"company.unit.sales_input_today\")"
   ]
  },
  {
   "cell_type": "code",
   "execution_count": 0,
   "metadata": {
    "application/vnd.databricks.v1+cell": {
     "cellMetadata": {
      "byteLimit": 2048000,
      "implicitDf": true,
      "rowLimit": 10000
     },
     "inputWidgets": {},
     "nuid": "a7106b39-2747-4800-9407-446f14366d67",
     "showTitle": false,
     "tableResultSettingsMap": {},
     "title": ""
    }
   },
   "outputs": [],
   "source": [
    "%sql\n",
    "\n",
    "select * from company.unit.sales_input_today"
   ]
  },
  {
   "cell_type": "markdown",
   "metadata": {
    "application/vnd.databricks.v1+cell": {
     "cellMetadata": {
      "byteLimit": 2048000,
      "rowLimit": 10000
     },
     "inputWidgets": {},
     "nuid": "6bfd4acf-04da-4c6b-9d4c-a5cbbf173c9c",
     "showTitle": false,
     "tableResultSettingsMap": {},
     "title": ""
    }
   },
   "source": [
    "#Add Product Price Info (Simulated Static Table)"
   ]
  },
  {
   "cell_type": "code",
   "execution_count": 0,
   "metadata": {
    "application/vnd.databricks.v1+cell": {
     "cellMetadata": {
      "byteLimit": 2048000,
      "rowLimit": 10000
     },
     "inputWidgets": {},
     "nuid": "fb0dc9c0-d293-4c50-aa4a-785183547cd6",
     "showTitle": false,
     "tableResultSettingsMap": {},
     "title": ""
    }
   },
   "outputs": [],
   "source": [
    "from pyspark.sql import Row\n",
    "\n",
    "# Static product prices\n",
    "product_data = [\n",
    "    Row(product_id=101, price=500.0),\n",
    "    Row(product_id=102, price=600.0),\n",
    "    Row(product_id=103, price=200.0),\n",
    "    Row(product_id=104, price=300.0)\n",
    "]\n",
    "\n",
    "product_df = spark.createDataFrame(product_data)\n"
   ]
  },
  {
   "cell_type": "markdown",
   "metadata": {
    "application/vnd.databricks.v1+cell": {
     "cellMetadata": {
      "byteLimit": 2048000,
      "rowLimit": 10000
     },
     "inputWidgets": {},
     "nuid": "ec0d0c55-fc83-4a1a-b360-5c67e97d0dd2",
     "showTitle": false,
     "tableResultSettingsMap": {},
     "title": ""
    }
   },
   "source": [
    "#Enrich Stream with Price and Demographics"
   ]
  },
  {
   "cell_type": "code",
   "execution_count": 0,
   "metadata": {
    "application/vnd.databricks.v1+cell": {
     "cellMetadata": {
      "byteLimit": 2048000,
      "rowLimit": 10000
     },
     "inputWidgets": {},
     "nuid": "5be91064-2fb5-43c7-92ff-3160ccdb629e",
     "showTitle": false,
     "tableResultSettingsMap": {},
     "title": ""
    }
   },
   "outputs": [],
   "source": [
    "# Enrich sales with product price\n",
    "sales_enriched_product = sales_stream_df.join(product_df, \"product_id\", \"left\") \\\n",
    "    .withColumn(\"spend\", col(\"quantity\") * col(\"price\"))\n",
    "\n",
    "# Add user demographics (assuming customer_id == user_id)\n",
    "sales_enriched_prod_user = sales_enriched_product.join(user_df, sales_enriched_product.customer_id == user_df.user_id, \"left\")\n"
   ]
  },
  {
   "cell_type": "code",
   "execution_count": 0,
   "metadata": {
    "application/vnd.databricks.v1+cell": {
     "cellMetadata": {
      "byteLimit": 2048000,
      "implicitDf": true,
      "rowLimit": 10000
     },
     "inputWidgets": {},
     "nuid": "86f86fa5-4894-4775-a4fc-9784c8de2369",
     "showTitle": false,
     "tableResultSettingsMap": {},
     "title": ""
    }
   },
   "outputs": [],
   "source": [
    "%sql\n",
    "\n",
    "drop table company.unit.sales_enriched_prod_user"
   ]
  },
  {
   "cell_type": "code",
   "execution_count": 0,
   "metadata": {
    "application/vnd.databricks.v1+cell": {
     "cellMetadata": {
      "byteLimit": 2048000,
      "rowLimit": 10000
     },
     "inputWidgets": {},
     "nuid": "cd7c2ec3-443a-4208-86b4-72851a42db16",
     "showTitle": false,
     "tableResultSettingsMap": {},
     "title": ""
    }
   },
   "outputs": [],
   "source": [
    "sales_enriched_prod_user.writeStream \\\n",
    "    .format(\"delta\") \\\n",
    "    .outputMode(\"append\") \\\n",
    "    .trigger(availableNow=True) \\\n",
    "    .option(\"checkpointLocation\", \"/Volumes/company/unit/chk/sales_enriched_prod_user\") \\\n",
    "    .toTable(\"company.unit.sales_enriched_prod_user\")"
   ]
  },
  {
   "cell_type": "code",
   "execution_count": 0,
   "metadata": {
    "application/vnd.databricks.v1+cell": {
     "cellMetadata": {
      "byteLimit": 2048000,
      "implicitDf": true,
      "rowLimit": 10000
     },
     "inputWidgets": {},
     "nuid": "e1fc1037-7609-4be4-b47c-1648da6df2a8",
     "showTitle": false,
     "tableResultSettingsMap": {},
     "title": ""
    }
   },
   "outputs": [],
   "source": [
    "%sql\n",
    "\n",
    "select * from company.unit.sales_enriched_prod_user"
   ]
  },
  {
   "cell_type": "markdown",
   "metadata": {
    "application/vnd.databricks.v1+cell": {
     "cellMetadata": {
      "byteLimit": 2048000,
      "rowLimit": 10000
     },
     "inputWidgets": {},
     "nuid": "c147a0af-fd6d-4318-8c1d-cd9ea351cdd3",
     "showTitle": false,
     "tableResultSettingsMap": {},
     "title": ""
    }
   },
   "source": [
    "#Apply Business Filters: Spend > 1000 or Quantity > 3, and Young Indian Users"
   ]
  },
  {
   "cell_type": "code",
   "execution_count": 0,
   "metadata": {
    "application/vnd.databricks.v1+cell": {
     "cellMetadata": {
      "byteLimit": 2048000,
      "rowLimit": 10000
     },
     "inputWidgets": {},
     "nuid": "a45ed147-0965-4f63-9fda-f5a846dce961",
     "showTitle": false,
     "tableResultSettingsMap": {},
     "title": ""
    }
   },
   "outputs": [],
   "source": [
    "# Business logic filters\n",
    "flagged_sales = sales_enriched_prod_user.filter(\n",
    "    (\n",
    "        (col(\"spend\") > 1000) | (col(\"quantity\") > 3)\n",
    "    ) & \n",
    "    (col(\"location\") == \"India\")\n",
    ")\n"
   ]
  },
  {
   "cell_type": "code",
   "execution_count": 0,
   "metadata": {
    "application/vnd.databricks.v1+cell": {
     "cellMetadata": {
      "byteLimit": 2048000,
      "rowLimit": 10000
     },
     "inputWidgets": {},
     "nuid": "23900855-4874-4c8a-81f3-03bd107d815e",
     "showTitle": false,
     "tableResultSettingsMap": {},
     "title": ""
    }
   },
   "outputs": [],
   "source": [
    "flagged_sales.writeStream \\\n",
    "    .format(\"delta\") \\\n",
    "    .outputMode(\"append\") \\\n",
    "    .trigger(availableNow=True) \\\n",
    "    .option(\"checkpointLocation\", \"/Volumes/company/unit/chk/flagged_transactions\") \\\n",
    "    .toTable(\"company.unit.flagged_transactions1\")\n"
   ]
  },
  {
   "cell_type": "code",
   "execution_count": 0,
   "metadata": {
    "application/vnd.databricks.v1+cell": {
     "cellMetadata": {
      "byteLimit": 2048000,
      "implicitDf": true,
      "rowLimit": 10000
     },
     "inputWidgets": {},
     "nuid": "58938037-cace-498f-bfe8-666e708e8029",
     "showTitle": false,
     "tableResultSettingsMap": {},
     "title": ""
    }
   },
   "outputs": [],
   "source": [
    "%sql\n",
    "\n",
    "select * from company.unit.flagged_transactions1"
   ]
  },
  {
   "cell_type": "markdown",
   "metadata": {
    "application/vnd.databricks.v1+cell": {
     "cellMetadata": {
      "byteLimit": 2048000,
      "rowLimit": 10000
     },
     "inputWidgets": {},
     "nuid": "464d8ec1-6764-48a8-a9f1-e898cd7aeb40",
     "showTitle": false,
     "tableResultSettingsMap": {},
     "title": ""
    }
   },
   "source": [
    "# Aggregation by Category and Country in 10-Minute Windows"
   ]
  },
  {
   "cell_type": "code",
   "execution_count": 0,
   "metadata": {
    "application/vnd.databricks.v1+cell": {
     "cellMetadata": {
      "byteLimit": 2048000,
      "rowLimit": 10000
     },
     "collapsed": true,
     "inputWidgets": {},
     "nuid": "b40a3e64-56a1-48c6-8e77-cd2211df6cb6",
     "showTitle": false,
     "tableResultSettingsMap": {},
     "title": ""
    }
   },
   "outputs": [],
   "source": [
    "dbutils.fs.put(\"/Volumes/company/unit/sales_input_volume/debug_transaction.json\", \"\"\"\n",
    "{\n",
    "  \"transaction_time\": \"2025-06-28T10:00:00\",\n",
    "  \"transaction_id\": 1006,\n",
    "  \"customer_id\": 1,\n",
    "  \"product_id\": 101,\n",
    "  \"quantity\": 2\n",
    "}\n",
    "\"\"\", overwrite=True)"
   ]
  },
  {
   "cell_type": "code",
   "execution_count": 0,
   "metadata": {
    "application/vnd.databricks.v1+cell": {
     "cellMetadata": {
      "byteLimit": 2048000,
      "rowLimit": 10000
     },
     "inputWidgets": {},
     "nuid": "57c139a7-bdf1-4137-bb36-788f48c3d788",
     "showTitle": false,
     "tableResultSettingsMap": {},
     "title": ""
    }
   },
   "outputs": [],
   "source": [
    "sales_enriched_prod_user.writeStream \\\n",
    "    .format(\"delta\") \\\n",
    "    .outputMode(\"append\") \\\n",
    "    .trigger(availableNow=True) \\\n",
    "    .option(\"checkpointLocation\", \"/Volumes/company/unit/chk/sales_enriched_prod_user_debug11\") \\\n",
    "    .toTable(\"company.unit.sales_enriched_prod_user_debug\")"
   ]
  },
  {
   "cell_type": "code",
   "execution_count": 0,
   "metadata": {
    "application/vnd.databricks.v1+cell": {
     "cellMetadata": {
      "byteLimit": 2048000,
      "implicitDf": true,
      "rowLimit": 10000
     },
     "collapsed": true,
     "inputWidgets": {},
     "nuid": "c365f0fe-7361-43c2-913c-419039573697",
     "showTitle": false,
     "tableResultSettingsMap": {},
     "title": ""
    }
   },
   "outputs": [],
   "source": [
    "%sql\n",
    "\n",
    "drop table company.unit.sales_enriched_prod_user_debug"
   ]
  },
  {
   "cell_type": "code",
   "execution_count": 0,
   "metadata": {
    "application/vnd.databricks.v1+cell": {
     "cellMetadata": {
      "byteLimit": 2048000,
      "implicitDf": true,
      "rowLimit": 10000
     },
     "inputWidgets": {},
     "nuid": "b4296b2c-0815-48b8-881d-2abef0be0b23",
     "showTitle": false,
     "tableResultSettingsMap": {},
     "title": ""
    }
   },
   "outputs": [],
   "source": [
    "%sql\n",
    "\n",
    "select * from company.unit.sales_enriched_prod_user_debug"
   ]
  },
  {
   "cell_type": "code",
   "execution_count": 0,
   "metadata": {
    "application/vnd.databricks.v1+cell": {
     "cellMetadata": {
      "byteLimit": 2048000,
      "rowLimit": 10000
     },
     "inputWidgets": {},
     "nuid": "e468e00c-c6c9-4db8-ade7-0983eca66e3b",
     "showTitle": false,
     "tableResultSettingsMap": {},
     "title": ""
    }
   },
   "outputs": [],
   "source": [
    "from pyspark.sql.functions import window, count\n",
    "\n",
    "category_country_agg = sales_enriched_prod_user \\\n",
    "    .groupBy(\n",
    "        col(\"location\")\n",
    "    ) \\\n",
    "    .agg(\n",
    "        count(\"transaction_id\").alias(\"transaction_count\")\n",
    "    )\n"
   ]
  },
  {
   "cell_type": "code",
   "execution_count": 0,
   "metadata": {
    "application/vnd.databricks.v1+cell": {
     "cellMetadata": {
      "byteLimit": 2048000,
      "rowLimit": 10000
     },
     "inputWidgets": {},
     "nuid": "35a98a80-9850-4c3b-97d4-e1660817eaf4",
     "showTitle": false,
     "tableResultSettingsMap": {},
     "title": ""
    }
   },
   "outputs": [],
   "source": [
    "from pyspark.sql.functions import window, count\n",
    "\n",
    "category_country_agg = sales_enriched_prod_user \\\n",
    "    .withWatermark(\"transaction_time\", \"10 minutes\") \\\n",
    "    .groupBy(\n",
    "        window(\"transaction_time\", \"10 minutes\"),\n",
    "        col(\"location\")\n",
    "    ) \\\n",
    "    .agg(\n",
    "        count(\"transaction_id\").alias(\"transaction_count\")\n",
    "    )\n"
   ]
  },
  {
   "cell_type": "code",
   "execution_count": 0,
   "metadata": {
    "application/vnd.databricks.v1+cell": {
     "cellMetadata": {
      "byteLimit": 2048000,
      "rowLimit": 10000
     },
     "inputWidgets": {},
     "nuid": "f727f2c1-34a6-45dd-a3c7-6d6e874c0de5",
     "showTitle": false,
     "tableResultSettingsMap": {},
     "title": ""
    }
   },
   "outputs": [],
   "source": [
    "category_country_agg.writeStream \\\n",
    "    .format(\"delta\") \\\n",
    "    .outputMode(\"Complete\") \\\n",
    "    .trigger(availableNow=True) \\\n",
    "    .option(\"checkpointLocation\", \"/Volumes/company/unit/chk/category_country_windowed11111\") \\\n",
    "    .toTable(\"company.unit.category_country_event_count\")\n"
   ]
  },
  {
   "cell_type": "code",
   "execution_count": 0,
   "metadata": {
    "application/vnd.databricks.v1+cell": {
     "cellMetadata": {
      "byteLimit": 2048000,
      "implicitDf": true,
      "rowLimit": 10000
     },
     "collapsed": true,
     "inputWidgets": {},
     "nuid": "d692ee4c-2a48-485e-929f-2e398eb53032",
     "showTitle": false,
     "tableResultSettingsMap": {},
     "title": ""
    }
   },
   "outputs": [],
   "source": [
    "%sql\n",
    "\n",
    "drop table company.unit.category_country_event_count1"
   ]
  },
  {
   "cell_type": "code",
   "execution_count": 0,
   "metadata": {
    "application/vnd.databricks.v1+cell": {
     "cellMetadata": {
      "byteLimit": 2048000,
      "implicitDf": true,
      "rowLimit": 10000
     },
     "inputWidgets": {},
     "nuid": "00e14e68-3b98-4448-bdcf-5dd06d241703",
     "showTitle": false,
     "tableResultSettingsMap": {},
     "title": ""
    }
   },
   "outputs": [],
   "source": [
    "%sql\n",
    "\n",
    "select * from company.unit.category_country_event_count"
   ]
  },
  {
   "cell_type": "markdown",
   "metadata": {
    "application/vnd.databricks.v1+cell": {
     "cellMetadata": {
      "byteLimit": 2048000,
      "rowLimit": 10000
     },
     "inputWidgets": {},
     "nuid": "b15ebbb3-9ac9-4802-826b-29295331221d",
     "showTitle": false,
     "tableResultSettingsMap": {},
     "title": ""
    }
   },
   "source": [
    "#Debug"
   ]
  },
  {
   "cell_type": "code",
   "execution_count": 0,
   "metadata": {
    "application/vnd.databricks.v1+cell": {
     "cellMetadata": {
      "byteLimit": 2048000,
      "rowLimit": 10000
     },
     "inputWidgets": {},
     "nuid": "e560b5bf-c169-428e-b579-f2edd3e639e9",
     "showTitle": false,
     "tableResultSettingsMap": {},
     "title": ""
    }
   },
   "outputs": [],
   "source": [
    "files = dbutils.fs.ls(\"/Volumes/company/unit/sales_input_volume/\")\n",
    "display(files)"
   ]
  },
  {
   "cell_type": "code",
   "execution_count": 0,
   "metadata": {
    "application/vnd.databricks.v1+cell": {
     "cellMetadata": {
      "byteLimit": 2048000,
      "implicitDf": true,
      "rowLimit": 10000
     },
     "inputWidgets": {},
     "nuid": "958b039f-4270-4ca6-b243-398400c8f376",
     "showTitle": false,
     "tableResultSettingsMap": {},
     "title": ""
    }
   },
   "outputs": [],
   "source": [
    "%sql\n",
    "\n",
    "SELECT * FROM company.unit.debug_sales_landing;"
   ]
  },
  {
   "cell_type": "code",
   "execution_count": 0,
   "metadata": {
    "application/vnd.databricks.v1+cell": {
     "cellMetadata": {
      "byteLimit": 2048000,
      "rowLimit": 10000
     },
     "inputWidgets": {},
     "nuid": "171b6200-1631-4895-bb4d-7ca78e557a9b",
     "showTitle": false,
     "tableResultSettingsMap": {},
     "title": ""
    }
   },
   "outputs": [],
   "source": [
    "test = sales_stream_df \\\n",
    "    .join(product_df, \"product_id\", \"left\") \\\n",
    "    .join(user_df, sales_stream_df.customer_id == user_df.user_id, \"left\")\n",
    "\n",
    "test.select(\"transaction_id\", \"product_id\", \"customer_id\", \"location\").show()"
   ]
  }
 ],
 "metadata": {
  "application/vnd.databricks.v1+notebook": {
   "computePreferences": null,
   "dashboards": [],
   "environmentMetadata": {
    "base_environment": "",
    "environment_version": "2"
   },
   "inputWidgetPreferences": null,
   "language": "python",
   "notebookMetadata": {
    "mostRecentlyExecutedCommandWithImplicitDF": {
     "commandId": 6229604162753708,
     "dataframes": [
      "_sqldf"
     ]
    },
    "pythonIndentUnit": 4
   },
   "notebookName": "Day 3 Hands On With Concepts of Structured Streaming",
   "widgets": {}
  },
  "language_info": {
   "name": "python"
  }
 },
 "nbformat": 4,
 "nbformat_minor": 0
}
